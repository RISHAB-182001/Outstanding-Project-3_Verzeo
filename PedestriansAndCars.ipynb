#How abt detecting pedestrians in motion and combining it with the Mini Project that i had already done before ..
#This will detect the Pedestrians as well as whether they r wearing masks or not
from google.colab.patches import cv2_imshow
import cv2

#Our Image
img_file = 'img.png'
video = cv2.VideoCapture('Pedestrians Compilation.mp4')

#Our pre-trained Pedestrian and Car classifiers
car_tracker_file = 'cars.xml'
pedestrian_tracker_file = 'Pedestrians.xml'

#Create car classifier
car_tracker = cv2.CascadeClassifier(car_tracker_file)
pedestrian_tracker = cv2.CascadeClassifier(pedestrian_tracker_file)


# Inifinite Looping until video stops
while True:

    #Read the current frame
    (read_successful, frame) = video.read()

    #Safe coding
    if read_successful:
        #Must convert to grayscale
        grayscaled_frame = cv2.cvtColor(frame, cv2.COLOR_BGR2GRAY)
    else:
        break

    #Detect cars and Pedestrians 
    cars = car_tracker.detectMultiScale(grayscaled_frame)
    pedestrians = pedestrian_tracker.detectMultiScale(grayscaled_frame)

    #Draw Rectangles around the cars and Pedestrians
    for (x, y, w, h) in cars:
        cv2.rectangle(frame, (x, y), (x+w, y+h), (0, 0, 255), 2)#The cars are outlined in blue

    for (x, y, w, h) in pedestrians:
        cv2.rectangle(frame, (x, y), (x+w, y+h), (0, 255, 255), 2)#The pedestrians are outlined in yellow
    
    #Display the Images with the faces spotted
    cv2_imshow(frame)

    #Don't autoclose (Wait here in the code and listen for a key press)
    key = cv2.waitKey(1)

    #Stop if Q key is pressed
    if key==81 or key==113:
        break

 
# Release the VideoCapture object
video.release()

print("Code Completed")
